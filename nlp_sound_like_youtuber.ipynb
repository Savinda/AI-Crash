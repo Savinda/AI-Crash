{
  "nbformat": 4,
  "nbformat_minor": 0,
  "metadata": {
    "colab": {
      "name": "nlp_sound_like_youtuber.ipynb",
      "provenance": [],
      "authorship_tag": "ABX9TyOIBptTuRieghLGBo2SyQ3v"
    },
    "kernelspec": {
      "name": "python3",
      "display_name": "Python 3"
    }
  },
  "cells": [
    {
      "cell_type": "code",
      "metadata": {
        "id": "V-5DVVLabvgH",
        "colab_type": "code",
        "colab": {
          "base_uri": "https://localhost:8080/",
          "height": 53
        },
        "outputId": "fb1c602b-84e0-4e5b-cdb7-a8d553bc801d"
      },
      "source": [
        "# STEP 1.1\n",
        "\n",
        "from urllib.request import urlopen\n",
        "txt = urlopen(\"https://raw.githubusercontent.com/crash-course-ai/lab2-nlp/master/vlogbrothers.txt\").read().decode('ascii').split(\"\\n\")\n",
        "print(\"Our dataset contains {} vlogbrothers scripts\".format(len(txt)))\n",
        "# ADVANCED_CHANGEME -- You can change this to load any text file \n",
        "# You want it to be one line of plain text for every script.  Extra\n",
        "# annotations like [John:] or *starts coughing* make learning more difficult.\n",
        "everything = set([w for s in txt for w in s.split()])\n",
        "print(\"and {} lexical types\".format(len(everything)))"
      ],
      "execution_count": 1,
      "outputs": [
        {
          "output_type": "stream",
          "text": [
            "Our dataset contains 626 vlogbrothers scripts\n",
            "and 31924 lexical types\n"
          ],
          "name": "stdout"
        }
      ]
    },
    {
      "cell_type": "code",
      "metadata": {
        "id": "_HKkdmd9euLT",
        "colab_type": "code",
        "colab": {}
      },
      "source": [
        "# STEP 1.2\n",
        "\n",
        "# 1. Import the tokenizer\n",
        "import spacy\n",
        "nlp = spacy.load(\"en\", disable=[\"parser\",\"tagger\",\"ner\",\"textcat\"])\n",
        "\n",
        "# 2. Tokenize\n",
        "txt = [nlp(s) for s in txt]\n",
        "\n",
        "# 3. Mark the beginning and end of each script \n",
        "txt = [ [\"<s>\"] + [str(w) for w in s] + [\"</s>\"] for s in txt]\n",
        "\n",
        "# 4. Separate the data into training and validation\n",
        "train = txt[:-5]\n",
        "valid = txt[-5:]\n",
        "\n",
        "# 5. Flatten the lists into one long string and remove extra whitespace\n",
        "train = [w for s in train for w in s if not w.isspace()]\n",
        "valid = [w for s in valid for w in s if not w.isspace()]"
      ],
      "execution_count": 0,
      "outputs": []
    },
    {
      "cell_type": "code",
      "metadata": {
        "id": "rtvO3fbpDaHJ",
        "colab_type": "code",
        "outputId": "ad4f16d3-7515-45bf-994d-b1912105254b",
        "colab": {
          "base_uri": "https://localhost:8080/",
          "height": 53
        }
      },
      "source": [
        "# STEP 1.3\n",
        "\n",
        "\"\"\"\n",
        "  How big is our dataset?\n",
        "\"\"\"\n",
        "print(\"Our training dataset contains {} lexical types\".format(len(set(train))))\n",
        "print(\"Our training dataset contains {} lexical tokens\".format(len(train)))"
      ],
      "execution_count": 3,
      "outputs": [
        {
          "output_type": "stream",
          "text": [
            "Our training dataset contains 22945 lexical types\n",
            "Our training dataset contains 569560 lexical tokens\n"
          ],
          "name": "stdout"
        }
      ]
    },
    {
      "cell_type": "code",
      "metadata": {
        "id": "S46L-91GFQko",
        "colab_type": "code",
        "outputId": "f6b91dcf-29d1-4716-c61f-b15e15a932c3",
        "colab": {
          "base_uri": "https://localhost:8080/",
          "height": 334
        }
      },
      "source": [
        "# STEP 1.4\n",
        "\n",
        "# 1. Count the frequencies of every word\n",
        "from collections import Counter, defaultdict\n",
        "counts = Counter(train)\n",
        "\n",
        "frequencies = [0]*8\n",
        "for w in counts:\n",
        "  if counts[w] >= 128:\n",
        "    frequencies[0] += 1\n",
        "  elif counts[w] >= 64:\n",
        "    frequencies[1] += 1\n",
        "  elif counts[w] >= 32:\n",
        "    frequencies[2] += 1\n",
        "  elif counts[w] >= 16:\n",
        "    frequencies[3] += 1\n",
        "  elif counts[w] >= 8:\n",
        "    frequencies[4] += 1\n",
        "  elif counts[w] >= 4:\n",
        "    frequencies[5] += 1\n",
        "  elif counts[w] >= 2:\n",
        "    frequencies[6] += 1\n",
        "  else:\n",
        "    frequencies[7] += 1\n",
        "\n",
        "\n",
        "# 2. Plot their distributions\n",
        "import matplotlib.pyplot as plt\n",
        "import seaborn as sns\n",
        "\n",
        "f,a = plt.subplots(1,1,figsize=(10,5))\n",
        "a.set(xlabel='Lexical types occuring more then n times', \n",
        "      ylabel='Number of lexical types')\n",
        "\n",
        "labels = [128, 64, 32, 16, 8, 4, 2, 1]\n",
        "_ = sns.barplot(labels, frequencies, ax=a, order=labels)"
      ],
      "execution_count": 4,
      "outputs": [
        {
          "output_type": "display_data",
          "data": {
            "image/png": "[encoded data removed]",
            "text/plain": [
              "<Figure size 720x360 with 1 Axes>"
            ]
          },
          "metadata": {
            "tags": []
          }
        }
      ]
    },
    {
      "cell_type": "code",
      "metadata": {
        "id": "SU8V3EIQH75l",
        "colab_type": "code",
        "outputId": "ccc1ef2d-ba26-4aa6-802a-94d4110f8b55",
        "colab": {
          "base_uri": "https://localhost:8080/",
          "height": 431
        }
      },
      "source": [
        "# STEP 1.5\n",
        "\n",
        "from textwrap import wrap\n",
        "rare = [w for w in counts if counts[w] == 1]\n",
        "for line in wrap(\" \".join([\"{:15s}\".format(w) for w in rare [:100]]), width=70):\n",
        "  print(line)"
      ],
      "execution_count": 5,
      "outputs": [
        {
          "output_type": "stream",
          "text": [
            "Pisgah          recycle         Inconvenient    sorta\n",
            "ignored         Sheets          Toilet          Situation\n",
            "oghomamamam     Oomph           Drinking        grizzly         malt\n",
            "minty           alcoholy        tast-           achoo\n",
            "Babysitter      Brave           Eden            Biblical\n",
            "exalted         Eggers          Gourevitch      Thur-\n",
            "patriarchal     Caravans        BP              58\n",
            "Sixteen         condense        12:15           Misprinted      floss\n",
            "terse           Punishment      Continuum       Apocalypticism  Emmitt\n",
            "styrofoam       locations       Dances          Boxing\n",
            "Federation      Upper           Poops           Poop\n",
            "Kirsten         Dunst           Umbros          UEFA            Gunter\n",
            "nonfictionaly   nonfictional    Roker           Ilyich          Linden\n",
            "bullshit        Monty           Python          Idle\n",
            "Lilliputians    Naked           gaping          theorem\n",
            "origami         ambiguously     exhaustible     grace           Mortal\n",
            "Kombat          tuba            Fighter         Quarterback     jab\n",
            "Who'd           Tiki            Barber          hm              Blaise\n",
            "Pascal          Immanuel        Kant            Mahatma\n",
            "Mandela         Beatles         calculators     trombones       D&D\n",
            "drones          asstica         Ash             Lent            hmmm\n",
            "hmmmmmm         Horrible        Himalayas       Huge            Hairy\n",
            "Terrifying\n"
          ],
          "name": "stdout"
        }
      ]
    },
    {
      "cell_type": "code",
      "metadata": {
        "id": "x9saMGPRQVRH",
        "colab_type": "code",
        "colab": {}
      },
      "source": [
        "# STEP 1.6\n",
        "\n",
        "# This is a little function to help us clean up the data\n",
        "# CHANGEME -- Introduce or removing rules\n",
        "import re\n",
        "def simplify(w):\n",
        "  # Remove extra punctuation\n",
        "  w = w.replace(\"-\", \"\").replace(\"-\",\"\")\n",
        "\n",
        "  # Replace numbers with # sign\n",
        "  w = re.sub('\\d', '#', w)\n",
        "\n",
        "  # Change some endings\n",
        "  if len(w) > 3 and w[-2:] in set ([\"ed\", \"er\", \"ly\"]):\n",
        "    return [w[:-2], w[-2:]]\n",
        "  elif len(w) > 4 and w[-3:] in set ([\"ing\", \"'re\"]):\n",
        "    return [w[:-3], w[-3]]\n",
        "  return [w]"
      ],
      "execution_count": 0,
      "outputs": []
    },
    {
      "cell_type": "code",
      "metadata": {
        "id": "gR8iJFvUR_Bv",
        "colab_type": "code",
        "outputId": "fcb94d40-a51d-4350-e601-eb017179121e",
        "colab": {
          "base_uri": "https://localhost:8080/",
          "height": 53
        }
      },
      "source": [
        "# STEP 1.7\n",
        "\n",
        "# 1. Go through and clean all of our data\n",
        "train_clean = []\n",
        "for w in train:\n",
        "  for piece in simplify(w):\n",
        "    train_clean.append(piece)\n",
        "valid_clean = []\n",
        "for w in valid:\n",
        "  for piece in simplify(w):\n",
        "    valid_clean.append(piece)\n",
        "\n",
        "\"\"\"\n",
        "  How big is our dataset?\n",
        "\"\"\"\n",
        "print(\"{} lexical types\".format(len(set(train_clean))))\n",
        "print(\"{} lexical tokens\".format(len(train_clean)))\n",
        "\"\"\"\n",
        "  What's our distribution look like?\n",
        "\"\"\"\n",
        "counts = Counter(train_clean)"
      ],
      "execution_count": 7,
      "outputs": [
        {
          "output_type": "stream",
          "text": [
            "19993 lexical types\n",
            "612532 lexical tokens\n"
          ],
          "name": "stdout"
        }
      ]
    },
    {
      "cell_type": "code",
      "metadata": {
        "id": "AhMjaVuMTUtV",
        "colab_type": "code",
        "outputId": "6cbb88b0-8efb-4c26-a279-bd81e12dbf55",
        "colab": {
          "base_uri": "https://localhost:8080/",
          "height": 334
        }
      },
      "source": [
        "# STEP 1.8\n",
        "\n",
        "counts_clean = Counter(train_clean)\n",
        "train_unk = [w if counts_clean[w] > 1 else \"unk\" for w in train_clean]\n",
        "valid_unk = [w if w in counts_clean and counts_clean[w] > 1 \\\n",
        "             else \"unk\" for w in valid_clean]\n",
        "\n",
        "# Let's plot these one last time\n",
        "counts = Counter(train_unk)\n",
        "\n",
        "frequencies = [0]*8\n",
        "for w in counts:\n",
        "  if counts[w] >= 128:\n",
        "    frequencies[0] += 1\n",
        "  elif counts[w] >= 64:\n",
        "    frequencies[1] += 1\n",
        "  elif counts[w] >= 32:\n",
        "    frequencies[2] += 1\n",
        "  elif counts[w] >= 16:\n",
        "    frequencies[3] += 1\n",
        "  elif counts[w] >= 8:\n",
        "    frequencies[4] += 1\n",
        "  elif counts[w] >= 4:\n",
        "    frequencies[5] += 1\n",
        "  elif counts[w] >= 2:\n",
        "    frequencies[6] += 1\n",
        "  else:\n",
        "    frequencies[7] += 1\n",
        "\n",
        "\n",
        "# 2. Plot their distributions\n",
        "import matplotlib.pyplot as plt\n",
        "import seaborn as sns\n",
        "\n",
        "f,a = plt.subplots(1,1,figsize=(10,5))\n",
        "a.set(xlabel='Lexical types occuring more then n times', \n",
        "      ylabel='Number of lexical types')\n",
        "\n",
        "labels = [128, 64, 32, 16, 8, 4, 2, 1]\n",
        "_ = sns.barplot(labels, frequencies, ax=a, order=labels)"
      ],
      "execution_count": 8,
      "outputs": [
        {
          "output_type": "display_data",
          "data": {
            "image/png": "[encoded data removed]",
            "text/plain": [
              "<Figure size 720x360 with 1 Axes>"
            ]
          },
          "metadata": {
            "tags": []
          }
        }
      ]
    },
    {
      "cell_type": "code",
      "metadata": {
        "id": "vqd2yEB4Uhnr",
        "colab_type": "code",
        "outputId": "7221ed47-ee79-4a6b-8cf4-376af5b4fb34",
        "colab": {
          "base_uri": "https://localhost:8080/",
          "height": 485
        }
      },
      "source": [
        "# STEP 1.9\n",
        "\n",
        "rare = [w for w in counts_clean if counts_clean[w] == 1]\n",
        "rare.sort()\n",
        "for line in wrap(\"  \".join([\"{:15s}\".format(w) for w in rare[-100:]]), width=70):\n",
        "  print(line)"
      ],
      "execution_count": 9,
      "outputs": [
        {
          "output_type": "stream",
          "text": [
            "whimp            whimper          whines           whippersnappers\n",
            "whiskeys         whistle          whittl           wholesale\n",
            "whoo             whoosey          whopp            wi\n",
            "widest           widows           wields           wifi\n",
            "wigg             wil              wildebeests      wilderness\n",
            "wildflowers      willallpreordersofthefaultinourstarsbesign\n",
            "willallpreordersofturtlesallthewaydownbesign  willful\n",
            "willingness      willpow          wimp             wina\n",
            "windowless       winds            winkel           winter\n",
            "wipe             wipes            wires            wis\n",
            "witch            withdrew         witnesses        witty\n",
            "woahWOAHWOAH     wobb             wobby            womb\n",
            "woodblock        woodcuts         woodpeck         wooooo\n",
            "wordless         workedOn         workings         worldliness\n",
            "wormhole         worms            worsens          worthwhile\n",
            "wounds           wowzy            wrap             wrest\n",
            "wriggl           wrist            wrought          wwwaaaahhhh\n",
            "wynflete         xenophobic       y'just           ya'know\n",
            "yacht            yappy            yawn             yeaahhh\n",
            "yearbook         yeeedadababoobok  yen              yo\n",
            "yoga             yop              youMaybe         youngest\n",
            "youngst          yousendit        yummy            zany\n",
            "zapp             zeal             zer              zeros\n",
            "zombicorns       zombieness       zombification    zoos\n",
            "zrbajarb         zu               ~good~           ~me~\n",
            "~more~           ~my~             ~right           ~wished~\n"
          ],
          "name": "stdout"
        }
      ]
    },
    {
      "cell_type": "code",
      "metadata": {
        "id": "RNsA0Fg0VcGS",
        "colab_type": "code",
        "colab": {}
      },
      "source": [
        "# STEP 2.1\n",
        "\n",
        "\"\"\"\n",
        "  Prepare our dataset by converting words to numbers\n",
        "\"\"\"\n",
        "# Create a mapping from words <-> numbers\n",
        "vocabulary = set(train_unk)\n",
        "word_to_num = {}\n",
        "num_to_word = {}\n",
        "for num, word in enumerate(vocabulary):\n",
        "  word_to_num[word] = num\n",
        "  num_to_word[num] =  word\n",
        "\n",
        "# Convert our datasets into numbers\n",
        "import torch\n",
        "train = torch.LongTensor(len(train_unk))\n",
        "for i in range(len(train_unk)):\n",
        "  train[i] = word_to_num[train_unk[i]]\n",
        "\n",
        "valid = torch.LongTensor(len(valid_unk))\n",
        "for i in range(len(valid_unk)):\n",
        "  train[i] = word_to_num[valid_unk[i]]"
      ],
      "execution_count": 0,
      "outputs": []
    },
    {
      "cell_type": "code",
      "metadata": {
        "id": "HtzhBa0RYZ8L",
        "colab_type": "code",
        "colab": {}
      },
      "source": [
        "# STEP 2.2\n",
        "\n",
        "# Parameters\n",
        "batch_size = 20   \n",
        "seq_len = 35        # CHANGEME\n",
        "\n",
        "# Tell Torch to use a GPU for computation\n",
        "device = torch.device(\"cuda\")\n",
        "# Setting the random seed decreases variability\n",
        "# Remove next three lines if running on your laptop\n",
        "torch.manual_seed(0)\n",
        "torch.backends.cudnn.deterministic = True\n",
        "torch.backends.cudnn.benchmark = False\n",
        "\n",
        "# citation: https://github.com/pytorch/examples/tree/master/word_language_model\n",
        "def batchify(data, bsz):\n",
        "    # Work out how cleanly we can divide the dataset into bsz parts.\n",
        "    nbatch = data.size(0) // bsz\n",
        "    # Trim off any extra elements that wouldn't cleanly fit (remainders).\n",
        "    data = data.narrow(0, 0, nbatch * bsz)\n",
        "    # Evenly divide the data across the bsz batches.\n",
        "    data = data.view(bsz, -1).t().contiguous()\n",
        "    return data.to(device)\n",
        "\n",
        "def get_batch(source, i, seq_len):\n",
        "    seq_len = min(seq_len, len(source) - 1 - i)\n",
        "    data = source[i:i+seq_len]\n",
        "    target = source[i+1:i+1+seq_len].view(-1)\n",
        "    return data, target\n",
        "\n",
        "def repackage_hidden(h):\n",
        "    \"\"\"Wraps hidden states in new Tensors, to detach them from their history.\"\"\"\n",
        "    if isinstance(h, torch.Tensor):\n",
        "        return h.detach()\n",
        "    else:\n",
        "        return tuple(repackage_hidden(v) for v in h)\n",
        "\n",
        "train = batchify(train, batch_size)\n",
        "valid = batchify(valid, batch_size)"
      ],
      "execution_count": 0,
      "outputs": []
    }
  ]
}