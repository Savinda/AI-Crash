{
  "nbformat": 4,
  "nbformat_minor": 0,
  "metadata": {
    "colab": {
      "name": "emnist-dataset.ipynb",
      "provenance": [],
      "collapsed_sections": [],
      "authorship_tag": "ABX9TyNH9enCV9gqT3H3UA6jCc2p",
      "include_colab_link": true
    },
    "kernelspec": {
      "name": "python3",
      "display_name": "Python 3"
    }
  },
  "cells": [
    {
      "cell_type": "markdown",
      "metadata": {
        "id": "view-in-github",
        "colab_type": "text"
      },
      "source": [
        "<a href=\"https://colab.research.google.com/github/Savinda/AI-Crash/blob/master/emnist_dataset.ipynb\" target=\"_parent\"><img src=\"https://colab.research.google.com/assets/colab-badge.svg\" alt=\"Open In Colab\"/></a>"
      ]
    },
    {
      "cell_type": "code",
      "metadata": {
        "id": "HhmEav3TVMt3",
        "colab_type": "code",
        "outputId": "5a77d1fb-def8-4981-96c2-20794435672e",
        "colab": {
          "base_uri": "https://localhost:8080/",
          "height": 215
        }
      },
      "source": [
        "# STEP 1.1\n",
        "\n",
        "!git clone https://github.com/sorki/python-mnist\n",
        "!./python-mnist/get_data.sh\n",
        "!pip3 install emnist\n",
        "from emnist import extract_training_samples\n",
        "\n",
        "print(\"Imported the EMNIST libraries we need!\")"
      ],
      "execution_count": 0,
      "outputs": [
        {
          "output_type": "stream",
          "text": [
            "fatal: destination path 'python-mnist' already exists and is not an empty directory.\n",
            "data directory already present, exiting\n",
            "Requirement already satisfied: emnist in /usr/local/lib/python3.6/dist-packages (0.0)\n",
            "Requirement already satisfied: requests in /usr/local/lib/python3.6/dist-packages (from emnist) (2.21.0)\n",
            "Requirement already satisfied: tqdm in /usr/local/lib/python3.6/dist-packages (from emnist) (4.28.1)\n",
            "Requirement already satisfied: numpy in /usr/local/lib/python3.6/dist-packages (from emnist) (1.17.5)\n",
            "Requirement already satisfied: certifi>=2017.4.17 in /usr/local/lib/python3.6/dist-packages (from requests->emnist) (2019.11.28)\n",
            "Requirement already satisfied: urllib3<1.25,>=1.21.1 in /usr/local/lib/python3.6/dist-packages (from requests->emnist) (1.24.3)\n",
            "Requirement already satisfied: chardet<3.1.0,>=3.0.2 in /usr/local/lib/python3.6/dist-packages (from requests->emnist) (3.0.4)\n",
            "Requirement already satisfied: idna<2.9,>=2.5 in /usr/local/lib/python3.6/dist-packages (from requests->emnist) (2.8)\n",
            "Imported the EMNIST libraries we need!\n"
          ],
          "name": "stdout"
        }
      ]
    },
    {
      "cell_type": "code",
      "metadata": {
        "id": "u9QsXzbVWI3s",
        "colab_type": "code",
        "outputId": "567670d4-8d77-4521-f623-fe4483d7c8d7",
        "colab": {
          "base_uri": "https://localhost:8080/",
          "height": 35
        }
      },
      "source": [
        "# STEP 1.2\n",
        "\n",
        "# Grab the data from OpenML website\n",
        "# X will be our images and y will be the labels\n",
        "X, y = extract_training_samples('letters')\n",
        "\n",
        "# Make sure that every pixel in all of the images is a value between 0 and 1\n",
        "X = X / 255.\n",
        "\n",
        "# Use the first 60000 instances as training and the next 10000 as testing\n",
        "X_train, X_test = X[:60000], X[60000:70000]\n",
        "y_train, y_test = y[:60000], y[60000:70000]\n",
        "\n",
        "# There is one other thing we needs to do\n",
        "# Record the number of samples in each dataset and the number of pixels in each image\n",
        "X_train = X_train.reshape(60000,784)\n",
        "X_test = X_test.reshape(10000,784)\n",
        "\n",
        "print(\"Extracted our samples and divided our training and testing data sets.\")"
      ],
      "execution_count": 0,
      "outputs": [
        {
          "output_type": "stream",
          "text": [
            "Extracted our samples and divided our training and testing data sets.\n"
          ],
          "name": "stdout"
        }
      ]
    },
    {
      "cell_type": "code",
      "metadata": {
        "id": "8Aj3qvd_YNq7",
        "colab_type": "code",
        "outputId": "41e56aaf-7584-4433-e128-ded531422f5d",
        "colab": {
          "base_uri": "https://localhost:8080/",
          "height": 301
        }
      },
      "source": [
        "# STEP 1.3\n",
        "\n",
        "import matplotlib.pyplot as plt\n",
        "\n",
        "img_index = 8888 # <<<< You can update this value to look at other images\n",
        "img = X_train[img_index]\n",
        "print(\"Image Label: \" + str(chr(y_train[img_index]+96)))\n",
        "plt.imshow(img.reshape(28,28))"
      ],
      "execution_count": 0,
      "outputs": [
        {
          "output_type": "stream",
          "text": [
            "Image Label: y\n"
          ],
          "name": "stdout"
        },
        {
          "output_type": "execute_result",
          "data": {
            "text/plain": [
              "<matplotlib.image.AxesImage at 0x7fa0f463f470>"
            ]
          },
          "metadata": {
            "tags": []
          },
          "execution_count": 3
        },
        {
          "output_type": "display_data",
          "data": {
            "image/png": "[encoded data removed]",
            "text/plain": [
              "<Figure size 432x288 with 1 Axes>"
            ]
          },
          "metadata": {
            "tags": []
          }
        }
      ]
    },
    {
      "cell_type": "code",
      "metadata": {
        "id": "UvCEXzaGZUy8",
        "colab_type": "code",
        "outputId": "ed6a5d98-8a2b-4aa6-d75c-ef51b8c37268",
        "colab": {
          "base_uri": "https://localhost:8080/",
          "height": 35
        }
      },
      "source": [
        "# STEP 2.1\n",
        "\n",
        "# These two lines import the ML libraries we need\n",
        "from sklearn.datasets import fetch_openml\n",
        "from sklearn.neural_network import MLPClassifier\n",
        "\n",
        "# This creates our first MLP with 1 hidden layer with 50 neurons and sets it to run through the data 20 times\n",
        "mlp1 = MLPClassifier(hidden_layer_sizes=(50,), max_iter=20, alpha=1e-4,\n",
        "                     solver='sgd', verbose=10, tol=1e-4, random_state=1,\n",
        "                     learning_rate_init=.1)\n",
        "\n",
        "print(\"Created our first MLP network\")"
      ],
      "execution_count": 0,
      "outputs": [
        {
          "output_type": "stream",
          "text": [
            "Created our first MLP network\n"
          ],
          "name": "stdout"
        }
      ]
    },
    {
      "cell_type": "code",
      "metadata": {
        "id": "ZxtB7ETQbUN5",
        "colab_type": "code",
        "outputId": "3e4f19ca-17f1-477d-c1bb-12e05e734815",
        "colab": {
          "base_uri": "https://localhost:8080/",
          "height": 449
        }
      },
      "source": [
        "# STEP 3.1\n",
        "\n",
        "mlp1.fit(X_train, y_train)\n",
        "print(\"Training set score: %f\" % mlp1.score(X_train, y_train))\n",
        "print(\"Test set score: %f\" % mlp1.score(X_test, y_test))"
      ],
      "execution_count": 0,
      "outputs": [
        {
          "output_type": "stream",
          "text": [
            "Iteration 1, loss = 1.06351395\n",
            "Iteration 2, loss = 0.64844650\n",
            "Iteration 3, loss = 0.56103245\n",
            "Iteration 4, loss = 0.51987725\n",
            "Iteration 5, loss = 0.49182099\n",
            "Iteration 6, loss = 0.47301057\n",
            "Iteration 7, loss = 0.45839220\n",
            "Iteration 8, loss = 0.44603836\n",
            "Iteration 9, loss = 0.43479721\n",
            "Iteration 10, loss = 0.42809575\n",
            "Iteration 11, loss = 0.41639233\n",
            "Iteration 12, loss = 0.40782908\n",
            "Iteration 13, loss = 0.40548360\n",
            "Iteration 14, loss = 0.39965983\n",
            "Iteration 15, loss = 0.39296832\n",
            "Iteration 16, loss = 0.38883219\n",
            "Iteration 17, loss = 0.38393955\n",
            "Iteration 18, loss = 0.37948343\n",
            "Iteration 19, loss = 0.37307616\n",
            "Iteration 20, loss = 0.37166732\n"
          ],
          "name": "stdout"
        },
        {
          "output_type": "stream",
          "text": [
            "/usr/local/lib/python3.6/dist-packages/sklearn/neural_network/_multilayer_perceptron.py:571: ConvergenceWarning: Stochastic Optimizer: Maximum iterations (20) reached and the optimization hasn't converged yet.\n",
            "  % self.max_iter, ConvergenceWarning)\n"
          ],
          "name": "stderr"
        },
        {
          "output_type": "stream",
          "text": [
            "Training set score: 0.886500\n",
            "Test set score: 0.840800\n"
          ],
          "name": "stdout"
        }
      ]
    },
    {
      "cell_type": "code",
      "metadata": {
        "id": "kQIpvh7JcJy1",
        "colab_type": "code",
        "outputId": "898375ad-fdf0-4ec8-9d66-75f4af9520b5",
        "colab": {
          "base_uri": "https://localhost:8080/",
          "height": 293
        }
      },
      "source": [
        "# STEP 3.2\n",
        "\n",
        "# First let's initialize a list with all the predicted values from the training set\n",
        "y_pred = mlp1.predict(X_test)\n",
        "\n",
        "# Now let's vasualize the errors between the predictions and the actual labels using a confusion matrix\n",
        "from sklearn.metrics import confusion_matrix\n",
        "cm = confusion_matrix(y_test, y_pred)\n",
        "plt.matshow(cm)"
      ],
      "execution_count": 0,
      "outputs": [
        {
          "output_type": "execute_result",
          "data": {
            "text/plain": [
              "<matplotlib.image.AxesImage at 0x7fa0e5971860>"
            ]
          },
          "metadata": {
            "tags": []
          },
          "execution_count": 6
        },
        {
          "output_type": "display_data",
          "data": {
            "image/png": "[encoded data removed]",
            "text/plain": [
              "<Figure size 288x288 with 1 Axes>"
            ]
          },
          "metadata": {
            "tags": []
          }
        }
      ]
    },
    {
      "cell_type": "code",
      "metadata": {
        "id": "yl141FWmdgqD",
        "colab_type": "code",
        "outputId": "39b4bb89-509f-40cc-be9f-c723e03c4f20",
        "colab": {
          "base_uri": "https://localhost:8080/",
          "height": 283
        }
      },
      "source": [
        "# STEP 3.3\n",
        "\n",
        "# You can change this to any letters that you think the neural network may have confused...\n",
        "predicted_letter = 'l'\n",
        "actual_letter = 'i'\n",
        "\n",
        "# This code counts all the mistakes from letters above\n",
        "mistake_list = []\n",
        "for i in range(len(y_test)):\n",
        "  if (y_test[i] == (ord(actual_letter) - 96) and y_pred[i] == (ord(predicted_letter) - 96)):\n",
        "    mistake_list.append(i)\n",
        "print(\"There were \" + str(len(mistake_list)) + \" times that the letter \" + actual_letter \n",
        "      + \" was predicted to be the letter \" + predicted_letter + \".\")\n",
        "\n",
        "# Once we know how many mistakes were made, we can change this to see an image of a particular one\n",
        "mistake_to_show =  4 # <<< e.g., change this to 3 if you want to see the 4th mistake\n",
        "\n",
        "# This code checks that the number mistakes you asked for can be shown and if so, displays an image of it\n",
        "if (len(mistake_list) > mistake_to_show):\n",
        "  img = X_test[mistake_list[mistake_to_show]]\n",
        "  plt.imshow(img.reshape((28, 28)))\n",
        "else:\n",
        "  print(\"Couldn't show mistake number \" + str(mistake_to_show + 1) + \" because there were only \" + str(len(mistake_list))\n",
        "  + \" mistakes to show!\")"
      ],
      "execution_count": 0,
      "outputs": [
        {
          "output_type": "stream",
          "text": [
            "There were 84 times that the letter i was predicted to be the letter l.\n"
          ],
          "name": "stdout"
        },
        {
          "output_type": "display_data",
          "data": {
            "image/png": "[encoded data removed]",
            "text/plain": [
              "<Figure size 432x288 with 1 Axes>"
            ]
          },
          "metadata": {
            "tags": []
          }
        }
      ]
    },
    {
      "cell_type": "code",
      "metadata": {
        "id": "PmGf4nDCehSc",
        "colab_type": "code",
        "outputId": "b671c97b-8366-4d9a-fd7b-eebb1ec5a3ef",
        "colab": {
          "base_uri": "https://localhost:8080/",
          "height": 989
        }
      },
      "source": [
        "# STEP 3.4\n",
        "\n",
        "# Change some of the values in the below statement and re-run to see how they affect performance\n",
        "mlp2 = MLPClassifier(hidden_layer_sizes=(100,100,100,100,100,), max_iter=50, alpha=1e-4,\n",
        "solver='sgd', verbose=10, tol=1e-4, random_state=1,\n",
        "learning_rate_init=.1)\n",
        "\n",
        "mlp2.fit(X_train, y_train)\n",
        "print(\"Trining set score: %f\" % mlp2.score(X_train, y_train))\n",
        "print(\"Test set score: %f\" % mlp2.score(X_test, y_test))"
      ],
      "execution_count": 0,
      "outputs": [
        {
          "output_type": "stream",
          "text": [
            "Iteration 1, loss = 1.15599672\n",
            "Iteration 2, loss = 0.54834774\n",
            "Iteration 3, loss = 0.44784035\n",
            "Iteration 4, loss = 0.39865207\n",
            "Iteration 5, loss = 0.36308811\n",
            "Iteration 6, loss = 0.33567397\n",
            "Iteration 7, loss = 0.31904877\n",
            "Iteration 8, loss = 0.29485588\n",
            "Iteration 9, loss = 0.27846574\n",
            "Iteration 10, loss = 0.26938228\n",
            "Iteration 11, loss = 0.25802023\n",
            "Iteration 12, loss = 0.25935391\n",
            "Iteration 13, loss = 0.25040129\n",
            "Iteration 14, loss = 0.23778275\n",
            "Iteration 15, loss = 0.22900046\n",
            "Iteration 16, loss = 0.22848821\n",
            "Iteration 17, loss = 0.21585034\n",
            "Iteration 18, loss = 0.21573023\n",
            "Iteration 19, loss = 0.21042306\n",
            "Iteration 20, loss = 0.20923178\n",
            "Iteration 21, loss = 0.20420055\n",
            "Iteration 22, loss = 0.20746136\n",
            "Iteration 23, loss = 0.20814230\n",
            "Iteration 24, loss = 0.19709426\n",
            "Iteration 25, loss = 0.18931068\n",
            "Iteration 26, loss = 0.19564641\n",
            "Iteration 27, loss = 0.19622160\n",
            "Iteration 28, loss = 0.20256337\n",
            "Iteration 29, loss = 0.18332725\n",
            "Iteration 30, loss = 0.19266968\n",
            "Iteration 31, loss = 0.18690757\n",
            "Iteration 32, loss = 0.18365975\n",
            "Iteration 33, loss = 0.18847366\n",
            "Iteration 34, loss = 0.18030152\n",
            "Iteration 35, loss = 0.18514135\n",
            "Iteration 36, loss = 0.18055779\n",
            "Iteration 37, loss = 0.17975747\n",
            "Iteration 38, loss = 0.18615996\n",
            "Iteration 39, loss = 0.18265912\n",
            "Iteration 40, loss = 0.16979666\n",
            "Iteration 41, loss = 0.18479706\n",
            "Iteration 42, loss = 0.17704018\n",
            "Iteration 43, loss = 0.17667839\n",
            "Iteration 44, loss = 0.18577955\n",
            "Iteration 45, loss = 0.18380964\n",
            "Iteration 46, loss = 0.18452252\n",
            "Iteration 47, loss = 0.18314915\n",
            "Iteration 48, loss = 0.18020371\n",
            "Iteration 49, loss = 0.17523959\n",
            "Iteration 50, loss = 0.19086538\n"
          ],
          "name": "stdout"
        },
        {
          "output_type": "stream",
          "text": [
            "/usr/local/lib/python3.6/dist-packages/sklearn/neural_network/_multilayer_perceptron.py:571: ConvergenceWarning: Stochastic Optimizer: Maximum iterations (50) reached and the optimization hasn't converged yet.\n",
            "  % self.max_iter, ConvergenceWarning)\n"
          ],
          "name": "stderr"
        },
        {
          "output_type": "stream",
          "text": [
            "Trining set score: 0.942917\n",
            "Test set score: 0.883300\n"
          ],
          "name": "stdout"
        }
      ]
    },
    {
      "cell_type": "code",
      "metadata": {
        "id": "ieC3ryjMlKRl",
        "colab_type": "code",
        "outputId": "d062663d-b4ab-49bc-82c8-d6a536c56cb5",
        "colab": {
          "base_uri": "https://localhost:8080/",
          "height": 251
        }
      },
      "source": [
        "# STEP 4.1\n",
        "\n",
        "# Pulls the scanned data set from GitHub\n",
        "!git clone https://github.com/crash-course-ai/lab1-neural-networks.git\n",
        "!git pull \n",
        "!ls lab1-neural-networks/letters_mod\n",
        "!cd /content/lab1-neural-networks/letters_mod\n",
        "!pwd\n",
        "\n",
        "#Puts all the data in the \"files\" variable\n",
        "import os\n",
        "path, dirs, files = next(os.walk(\"/content/lab1-neural-networks/letters_mod/\"))\n",
        "files.sort()"
      ],
      "execution_count": 0,
      "outputs": [
        {
          "output_type": "stream",
          "text": [
            "fatal: destination path 'lab1-neural-networks' already exists and is not an empty directory.\n",
            "fatal: not a git repository (or any of the parent directories): .git\n",
            "00.jpg\t10.jpg\t20.jpg\t30.jpg\t40.jpg\t50.jpg\t60.jpg\t70.jpg\t80.jpg\t90.jpg\n",
            "01.jpg\t11.jpg\t21.jpg\t31.jpg\t41.jpg\t51.jpg\t61.jpg\t71.jpg\t81.jpg\t91.jpg\n",
            "02.jpg\t12.jpg\t22.jpg\t32.jpg\t42.jpg\t52.jpg\t62.jpg\t72.jpg\t82.jpg\t92.jpg\n",
            "03.jpg\t13.jpg\t23.jpg\t33.jpg\t43.jpg\t53.jpg\t63.jpg\t73.jpg\t83.jpg\t93.jpg\n",
            "04.jpg\t14.jpg\t24.jpg\t34.jpg\t44.jpg\t54.jpg\t64.jpg\t74.jpg\t84.jpg\t94.jpg\n",
            "05.jpg\t15.jpg\t25.jpg\t35.jpg\t45.jpg\t55.jpg\t65.jpg\t75.jpg\t85.jpg\t95.jpg\n",
            "06.jpg\t16.jpg\t26.jpg\t36.jpg\t46.jpg\t56.jpg\t66.jpg\t76.jpg\t86.jpg\t96.jpg\n",
            "07.jpg\t17.jpg\t27.jpg\t37.jpg\t47.jpg\t57.jpg\t67.jpg\t77.jpg\t87.jpg\t97.jpg\n",
            "08.jpg\t18.jpg\t28.jpg\t38.jpg\t48.jpg\t58.jpg\t68.jpg\t78.jpg\t88.jpg\t98.jpg\n",
            "09.jpg\t19.jpg\t29.jpg\t39.jpg\t49.jpg\t59.jpg\t69.jpg\t79.jpg\t89.jpg\t99.jpg\n",
            "/content\n"
          ],
          "name": "stdout"
        }
      ]
    },
    {
      "cell_type": "code",
      "metadata": {
        "id": "Nfds9bLemxlm",
        "colab_type": "code",
        "outputId": "2b2765b9-8b72-415f-84af-9a2b2d498ec0",
        "colab": {
          "base_uri": "https://localhost:8080/",
          "height": 304
        }
      },
      "source": [
        "# STEP 4.2\n",
        "\n",
        "# These libraries let us import the letters, resize them and print them out\n",
        "import cv2\n",
        "import matplotlib.pyplot as plt\n",
        "\n",
        "# This code processes all the scanned images and add them to handwritten_story\n",
        "handwritten_story = []\n",
        "for i in range(len(files)):\n",
        "  img = cv2.imread(\"/content/lab1-neural-networks/letters_mod/\"+files[i],cv2.IMREAD_GRAYSCALE)\n",
        "  handwritten_story.append(img)\n",
        "\n",
        "print(\"Imported the scanned images.\")\n",
        "plt.imshow(handwritten_story[4]) #<--- Change this index to see different letters"
      ],
      "execution_count": 0,
      "outputs": [
        {
          "output_type": "stream",
          "text": [
            "Imported the scanned images.\n"
          ],
          "name": "stdout"
        },
        {
          "output_type": "execute_result",
          "data": {
            "text/plain": [
              "<matplotlib.image.AxesImage at 0x7fa0dc839630>"
            ]
          },
          "metadata": {
            "tags": []
          },
          "execution_count": 10
        },
        {
          "output_type": "display_data",
          "data": {
            "image/png": "[encoded data removed]",
            "text/plain": [
              "<Figure size 432x288 with 1 Axes>"
            ]
          },
          "metadata": {
            "tags": []
          }
        }
      ]
    },
    {
      "cell_type": "code",
      "metadata": {
        "id": "qFZd-xbNl7mu",
        "colab_type": "code",
        "outputId": "93a064b5-e05a-444c-ceb8-62d853319009",
        "colab": {
          "base_uri": "https://localhost:8080/",
          "height": 53
        }
      },
      "source": [
        "# STEP 4.3\n",
        "\n",
        "# These are the libraries we need to do some math on the image\n",
        "# to be able to give it to the MLP in the right format and to resize it to 28x28 pixels\n",
        "import numpy\n",
        "import cv2\n",
        "\n",
        "typed_story = \"\"\n",
        "for letter in handwritten_story:\n",
        "  letter = cv2.resize(letter, (28,28), interpolation = cv2.INTER_CUBIC)\n",
        "  single_item_array = (numpy.array(letter)).reshape(1,784)\n",
        "  prediction = mlp2.predict(single_item_array)\n",
        "  typed_story = typed_story + str(chr(prediction[0]+96))\n",
        "\n",
        "print(\"Conversion to typed stroy complete!\")\n",
        "print(typed_story)"
      ],
      "execution_count": 0,
      "outputs": [
        {
          "output_type": "stream",
          "text": [
            "Conversion to typed stroy complete!\n",
            "thejfnultjivjourjqouerjsupeliesjijrclljinjluvejthejwnyjyquzjbnttezyjdcesjslawlyjnndjttenjnlljntjancr\n"
          ],
          "name": "stdout"
        }
      ]
    },
    {
      "cell_type": "code",
      "metadata": {
        "id": "7loZ_-mx3DeN",
        "colab_type": "code",
        "colab": {}
      },
      "source": [
        ""
      ],
      "execution_count": 0,
      "outputs": []
    },
    {
      "cell_type": "code",
      "metadata": {
        "id": "knYQeUFqqVJY",
        "colab_type": "code",
        "outputId": "df35c4f6-0fdb-4251-b11b-d23fb16c57a7",
        "colab": {
          "base_uri": "https://localhost:8080/",
          "height": 53
        }
      },
      "source": [
        "# STEP 4.4\n",
        "\n",
        "# This is a library we need to do some math on the image to be able to give it yo the MLP in the right format\n",
        "import numpy\n",
        "\n",
        "typed_story = \"\"\n",
        "for letter in handwritten_story:\n",
        "  letter = cv2.resize(letter, (28,28), interpolation = cv2.INTER_CUBIC)\n",
        "\n",
        "  # This bit of code checks to see if the image is just a blank space by looking at the color of all pixels summed\n",
        "  total_pixel_value = 0\n",
        "  for j in range (28):\n",
        "    for k in range (28):\n",
        "      total_pixel_value += letter[j,k]\n",
        "  if total_pixel_value < 20: \n",
        "    typed_story = typed_story + \" \"\n",
        "  else: #if it is NOT blank, it actually runs the prediction algorithm on it\n",
        "    single_item_array = (numpy.array(letter)).reshape(1,784)\n",
        "    prediction = mlp2.predict(single_item_array)\n",
        "    typed_story = typed_story + str(chr(prediction[0]+96))\n",
        "\n",
        "print(\"Conversion to typed stroy complete!\")\n",
        "print(typed_story)"
      ],
      "execution_count": 0,
      "outputs": [
        {
          "output_type": "stream",
          "text": [
            "Conversion to typed stroy complete!\n",
            "the fnult iv our qouer supelies i rcll in luve the wny yquz bnttezy dces slawly nnd tten nll nt ancr\n"
          ],
          "name": "stdout"
        }
      ]
    },
    {
      "cell_type": "code",
      "metadata": {
        "id": "7pIjVFnLtEEJ",
        "colab_type": "code",
        "outputId": "2a1f0955-782c-4f6f-c2b3-c02b0d838bc3",
        "colab": {
          "base_uri": "https://localhost:8080/",
          "height": 1000
        }
      },
      "source": [
        "# STEP 4.5\n",
        "\n",
        "# These steps process the scanned images to be in the same format and have the same properties as the EMNIST images\n",
        "# They are described by the EMNIST authors in detail here: https://arxiv.org/pdf/1702.05373v1.pdf\n",
        "processed_story = []\n",
        "\n",
        "for img in handwritten_story:\n",
        "  #step 1: Apply Gussian Blur filter\n",
        "  img = cv2.GaussianBlur(img, (7,7), 0)\n",
        "\n",
        "  #step 2 and 3: Extract the Region of Interest in the image and center in square\n",
        "  points = cv2.findNonZero(img)\n",
        "  x,y,w,h = cv2.boundingRect(points)\n",
        "  if(w > 0 and h > 0):\n",
        "    if w > h:\n",
        "      y = y - (w - h)//2\n",
        "      img = img[y:y+w, x:x+w]\n",
        "    else:\n",
        "      x = x - (h - w)//2\n",
        "      img = img[y:y+h, x:x+h]\n",
        "  \n",
        "  #step 4: Resize and resample to be 28x28 pixels\n",
        "  img = cv2.resize(img, (28,28), interpolation = cv2.INTER_CUBIC)\n",
        "\n",
        "  #step 5: Normalize pixels and reshape before adding to the new story array\n",
        "  img = img/255\n",
        "  img = img.reshape((28,28))\n",
        "  processed_story.append(img)\n",
        "\n",
        "  print(\"Processed the scanned images.\")\n",
        "\n",
        "  import matplotlib.pyplot as plt\n",
        "  # total_images = len(processed_story)\n",
        "  # print(total_images)\n",
        "  plt.imshow(processed_story[0]) #<<< Change this index if you want to see a different letter from the story"
      ],
      "execution_count": 0,
      "outputs": [
        {
          "output_type": "stream",
          "text": [
            "Processed the scanned images.\n",
            "Processed the scanned images.\n",
            "Processed the scanned images.\n",
            "Processed the scanned images.\n",
            "Processed the scanned images.\n",
            "Processed the scanned images.\n",
            "Processed the scanned images.\n",
            "Processed the scanned images.\n",
            "Processed the scanned images.\n",
            "Processed the scanned images.\n",
            "Processed the scanned images.\n",
            "Processed the scanned images.\n",
            "Processed the scanned images.\n",
            "Processed the scanned images.\n",
            "Processed the scanned images.\n",
            "Processed the scanned images.\n",
            "Processed the scanned images.\n",
            "Processed the scanned images.\n",
            "Processed the scanned images.\n",
            "Processed the scanned images.\n",
            "Processed the scanned images.\n",
            "Processed the scanned images.\n",
            "Processed the scanned images.\n",
            "Processed the scanned images.\n",
            "Processed the scanned images.\n",
            "Processed the scanned images.\n",
            "Processed the scanned images.\n",
            "Processed the scanned images.\n",
            "Processed the scanned images.\n",
            "Processed the scanned images.\n",
            "Processed the scanned images.\n",
            "Processed the scanned images.\n",
            "Processed the scanned images.\n",
            "Processed the scanned images.\n",
            "Processed the scanned images.\n",
            "Processed the scanned images.\n",
            "Processed the scanned images.\n",
            "Processed the scanned images.\n",
            "Processed the scanned images.\n",
            "Processed the scanned images.\n",
            "Processed the scanned images.\n",
            "Processed the scanned images.\n",
            "Processed the scanned images.\n",
            "Processed the scanned images.\n",
            "Processed the scanned images.\n",
            "Processed the scanned images.\n",
            "Processed the scanned images.\n",
            "Processed the scanned images.\n",
            "Processed the scanned images.\n",
            "Processed the scanned images.\n",
            "Processed the scanned images.\n",
            "Processed the scanned images.\n",
            "Processed the scanned images.\n",
            "Processed the scanned images.\n",
            "Processed the scanned images.\n",
            "Processed the scanned images.\n",
            "Processed the scanned images.\n",
            "Processed the scanned images.\n",
            "Processed the scanned images.\n",
            "Processed the scanned images.\n",
            "Processed the scanned images.\n",
            "Processed the scanned images.\n",
            "Processed the scanned images.\n",
            "Processed the scanned images.\n",
            "Processed the scanned images.\n",
            "Processed the scanned images.\n",
            "Processed the scanned images.\n",
            "Processed the scanned images.\n",
            "Processed the scanned images.\n",
            "Processed the scanned images.\n",
            "Processed the scanned images.\n",
            "Processed the scanned images.\n",
            "Processed the scanned images.\n",
            "Processed the scanned images.\n",
            "Processed the scanned images.\n",
            "Processed the scanned images.\n",
            "Processed the scanned images.\n",
            "Processed the scanned images.\n",
            "Processed the scanned images.\n",
            "Processed the scanned images.\n",
            "Processed the scanned images.\n",
            "Processed the scanned images.\n",
            "Processed the scanned images.\n",
            "Processed the scanned images.\n",
            "Processed the scanned images.\n",
            "Processed the scanned images.\n",
            "Processed the scanned images.\n",
            "Processed the scanned images.\n",
            "Processed the scanned images.\n",
            "Processed the scanned images.\n",
            "Processed the scanned images.\n",
            "Processed the scanned images.\n",
            "Processed the scanned images.\n",
            "Processed the scanned images.\n",
            "Processed the scanned images.\n",
            "Processed the scanned images.\n",
            "Processed the scanned images.\n",
            "Processed the scanned images.\n",
            "Processed the scanned images.\n",
            "Processed the scanned images.\n"
          ],
          "name": "stdout"
        },
        {
          "output_type": "display_data",
          "data": {
            "image/png": "[encoded data removed]",
            "text/plain": [
              "<Figure size 432x288 with 1 Axes>"
            ]
          },
          "metadata": {
            "tags": []
          }
        }
      ]
    },
    {
      "cell_type": "code",
      "metadata": {
        "id": "8lfNb8kH3E9b",
        "colab_type": "code",
        "outputId": "0ce3d9f3-020d-4672-dbed-ce3d6a56953e",
        "colab": {
          "base_uri": "https://localhost:8080/",
          "height": 53
        }
      },
      "source": [
        "# STEP 4.6\n",
        "\n",
        "# This is a library we need to do some math on the image to be able to give it yo the MLP in the right format\n",
        "import numpy\n",
        "\n",
        "typed_story = \"\"\n",
        "for letter in processed_story:\n",
        "\n",
        "  # This bit of code checks to see if the image is just a blank space by looking at the color of all pixels summed\n",
        "  total_pixel_value = 0\n",
        "  for j in range (28):\n",
        "    for k in range (28):\n",
        "      total_pixel_value += letter[j,k]\n",
        "  if total_pixel_value < 20: \n",
        "    typed_story = typed_story + \" \"\n",
        "  else: #if it is NOT blank, it actually runs the prediction algorithm on it\n",
        "    single_item_array = (numpy.array(letter)).reshape(1,784)\n",
        "    prediction = mlp2.predict(single_item_array)\n",
        "    typed_story = typed_story + str(chr(prediction[0]+96))\n",
        "\n",
        "print(\"Conversion to typed stroy complete!\")\n",
        "print(typed_story)"
      ],
      "execution_count": 0,
      "outputs": [
        {
          "output_type": "stream",
          "text": [
            "Conversion to typed stroy complete!\n",
            "the fault jn our pcwer supplies i fell in love the way your battery dies slowly and then all af once\n"
          ],
          "name": "stdout"
        }
      ]
    }
  ]
}